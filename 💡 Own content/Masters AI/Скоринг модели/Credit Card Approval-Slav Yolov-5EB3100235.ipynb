{
 "cells": [
  {
   "cell_type": "markdown",
   "metadata": {},
   "source": [
    "# AUTHOR : Slav Yolov\n",
    "# Faculty number : 5EB3100235"
   ]
  },
  {
   "cell_type": "markdown",
   "metadata": {},
   "source": [
    "##  credit card approval predictor\n",
    "\n",
    "Use the <a href=\"http://archive.ics.uci.edu/ml/datasets/credit+approval\">Credit Card Approval dataset</a> from the UCI Machine Learning Repository."
   ]
  },
  {
   "cell_type": "code",
   "execution_count": null,
   "metadata": {},
   "outputs": [],
   "source": [
    "!pip install pandas-profiling==3.6.2"
   ]
  },
  {
   "cell_type": "code",
   "execution_count": null,
   "metadata": {},
   "outputs": [],
   "source": [
    "!pip install shap"
   ]
  },
  {
   "cell_type": "markdown",
   "metadata": {},
   "source": [
    "# dataset description :\n",
    "\n",
    "http://archive.ics.uci.edu/ml/datasets/credit+approval\n",
    "\n",
    "```\n",
    "6.  Number of Attributes: 15 + class attribute\n",
    "\n",
    "7.  Attribute Information:\n",
    "\n",
    "    A1:\tb, a.\n",
    "    A2:\tcontinuous.\n",
    "    A3:\tcontinuous.\n",
    "    A4:\tu, y, l, t.\n",
    "    A5:\tg, p, gg.\n",
    "    A6:\tc, d, cc, i, j, k, m, r, q, w, x, e, aa, ff.\n",
    "    A7:\tv, h, bb, j, n, z, dd, ff, o.\n",
    "    A8:\tcontinuous.\n",
    "    A9:\tt, f.\n",
    "    A10:\tt, f.\n",
    "    A11:\tcontinuous.\n",
    "    A12:\tt, f.\n",
    "    A13:\tg, p, s.\n",
    "    A14:\tcontinuous.\n",
    "    A15:\tcontinuous.\n",
    "    A16: +,-         (class attribute)\n",
    "\n",
    "8.  Missing Attribute Values:\n",
    "    37 cases (5%) have one or more missing values.  The missing\n",
    "    values from particular attributes are:\n",
    "\n",
    "    A1:  12\n",
    "    A2:  12\n",
    "    A4:   6\n",
    "    A5:   6\n",
    "    A6:   9\n",
    "    A7:   9\n",
    "    A14: 13\n",
    "\n",
    "9.  Class Distribution\n",
    "  \n",
    "    +: 307 (44.5%)\n",
    "    -: 383 (55.5%)\n",
    "```"
   ]
  },
  {
   "cell_type": "code",
   "execution_count": 1,
   "metadata": {},
   "outputs": [],
   "source": [
    "import pandas as pd\n",
    "import numpy as np\n",
    "import seaborn as sns\n",
    "import matplotlib.pyplot as plt\n",
    "from sklearn.preprocessing import LabelEncoder, MinMaxScaler\n",
    "from sklearn.model_selection import train_test_split\n",
    "from sklearn.linear_model import LogisticRegression\n",
    "from sklearn.ensemble import RandomForestClassifier\n",
    "from sklearn.model_selection import GridSearchCV\n",
    "from sklearn.model_selection import cross_val_score\n",
    "from scipy import stats as st\n",
    "from sklearn.metrics import confusion_matrix, recall_score, precision_score, f1_score, accuracy_score\n",
    "\n",
    "\n",
    "from pandas_profiling import ProfileReport"
   ]
  },
  {
   "cell_type": "code",
   "execution_count": 2,
   "metadata": {},
   "outputs": [
    {
     "name": "stdout",
     "output_type": "stream",
     "text": [
      "   0      1      2  3  4  5  6     7  8  9  10 11 12   13   14 15\n",
      "0  b  30.83  0.000  u  g  w  v  1.25  t  t   1  f  g  202    0  +\n",
      "1  a  58.67  4.460  u  g  q  h  3.04  t  t   6  f  g   43  560  +\n",
      "2  a   24.5  0.500  u  g  q  h  1.50  t  f   0  f  g  280  824  +\n",
      "3  b  27.83  1.540  u  g  w  v  3.75  t  t   5  t  g  100    3  +\n",
      "4  b  20.17  5.625  u  g  w  v  1.71  t  f   0  f  s  120    0  +\n",
      "<class 'pandas.core.frame.DataFrame'>\n",
      "RangeIndex: 690 entries, 0 to 689\n",
      "Data columns (total 16 columns):\n",
      " #   Column  Non-Null Count  Dtype  \n",
      "---  ------  --------------  -----  \n",
      " 0   0       690 non-null    object \n",
      " 1   1       690 non-null    object \n",
      " 2   2       690 non-null    float64\n",
      " 3   3       690 non-null    object \n",
      " 4   4       690 non-null    object \n",
      " 5   5       690 non-null    object \n",
      " 6   6       690 non-null    object \n",
      " 7   7       690 non-null    float64\n",
      " 8   8       690 non-null    object \n",
      " 9   9       690 non-null    object \n",
      " 10  10      690 non-null    int64  \n",
      " 11  11      690 non-null    object \n",
      " 12  12      690 non-null    object \n",
      " 13  13      690 non-null    object \n",
      " 14  14      690 non-null    int64  \n",
      " 15  15      690 non-null    object \n",
      "dtypes: float64(2), int64(2), object(12)\n",
      "memory usage: 86.4+ KB\n",
      "None\n"
     ]
    }
   ],
   "source": [
    "# Load dataset\n",
    "credit_df = pd.read_csv(\"cc_approvals.csv\", header=None)\n",
    "credit_df.columns = credit_df.columns.astype(str)\n",
    "\n",
    "print(credit_df.head())\n",
    "print(credit_df.info())\n",
    "\n",
    "# 1,2,7,11,13,14"
   ]
  },
  {
   "cell_type": "code",
   "execution_count": 3,
   "metadata": {},
   "outputs": [
    {
     "data": {
      "application/vnd.jupyter.widget-view+json": {
       "model_id": "3477a4879df64a6b8cb1ac89eaf690d8",
       "version_major": 2,
       "version_minor": 0
      },
      "text/plain": [
       "Summarize dataset:   0%|          | 0/5 [00:00<?, ?it/s]"
      ]
     },
     "metadata": {},
     "output_type": "display_data"
    },
    {
     "data": {
      "application/vnd.jupyter.widget-view+json": {
       "model_id": "aa579a7f99ff4dddb198d4a62c24103e",
       "version_major": 2,
       "version_minor": 0
      },
      "text/plain": [
       "Generate report structure:   0%|          | 0/1 [00:00<?, ?it/s]"
      ]
     },
     "metadata": {},
     "output_type": "display_data"
    },
    {
     "data": {
      "application/vnd.jupyter.widget-view+json": {
       "model_id": "",
       "version_major": 2,
       "version_minor": 0
      },
      "text/plain": [
       "Render widgets:   0%|          | 0/1 [00:00<?, ?it/s]"
      ]
     },
     "metadata": {},
     "output_type": "display_data"
    },
    {
     "data": {
      "application/vnd.jupyter.widget-view+json": {
       "model_id": "8414db1612e04dd59c6c1cc10a66234c",
       "version_major": 2,
       "version_minor": 0
      },
      "text/plain": [
       "VBox(children=(Tab(children=(Tab(children=(GridBox(children=(VBox(children=(GridspecLayout(children=(HTML(valu…"
      ]
     },
     "metadata": {},
     "output_type": "display_data"
    }
   ],
   "source": [
    "# Data profiling :\n",
    "\n",
    "profile = ProfileReport(df=credit_df, title=\"Pandas Profiling Report\")\n",
    "profile.to_widgets()\n",
    "# profile.to_notebook_iframe()\n",
    "# profile.to_file(\"your_report.html\")"
   ]
  },
  {
   "cell_type": "markdown",
   "metadata": {},
   "source": [
    "## Findings :\n",
    "\n",
    "### EDA\n",
    "- feature 3 and 4 are exactly correlated. This means that we have no gain using both. One of them can be removed from the model training\n",
    "- ??? column 13 is coded as categorical but looks continuous thus data type changed (why these columns 10 and 13 were dropped)\n",
    "- Target is fairly balanced (55% class 0 and 45% class 1) therefore HoldoutCV should be ok as a start\n",
    "- After countplot - some fields look numeric. This will be handled in the dataprep function"
   ]
  },
  {
   "cell_type": "code",
   "execution_count": 4,
   "metadata": {},
   "outputs": [
    {
     "data": {
      "image/png": "[encoded data removed]",
      "text/plain": [
       "<Figure size 432x288 with 2 Axes>"
      ]
     },
     "metadata": {
      "needs_background": "light"
     },
     "output_type": "display_data"
    }
   ],
   "source": [
    "#plotting the heatmap for correlation - Numerical\n",
    "ax = sns.heatmap(credit_df.corr(), annot=True)"
   ]
  },
  {
   "cell_type": "code",
   "execution_count": 5,
   "metadata": {},
   "outputs": [],
   "source": [
    "categorical_columns = list(credit_df.select_dtypes(['object']).columns)\n",
    "categorical_columns_wo_target = categorical_columns.copy()\n",
    "categorical_columns_wo_target.remove('15')\n",
    "\n",
    "def run_countplot(data: pd.DataFrame, cols_subs, target_col):\n",
    "    f, axs = plt.subplots(1, len(cols_subs), figsize=(10, 4))\n",
    "    for ax, col in zip(axs, cols_subs):\n",
    "        sns.countplot(data=data, x=col, hue=target_col, ax=ax)\n",
    "\n",
    "\n",
    "    f.tight_layout()"
   ]
  },
  {
   "cell_type": "code",
   "execution_count": 6,
   "metadata": {},
   "outputs": [
    {
     "data": {
      "image/png": "[encoded data removed]",
      "text/plain": [
       "<Figure size 720x288 with 4 Axes>"
      ]
     },
     "metadata": {
      "needs_background": "light"
     },
     "output_type": "display_data"
    }
   ],
   "source": [
    "cols_subs = categorical_columns_wo_target[:4]\n",
    "run_countplot(data=credit_df, cols_subs=cols_subs, target_col='15')"
   ]
  },
  {
   "cell_type": "code",
   "execution_count": 7,
   "metadata": {},
   "outputs": [
    {
     "data": {
      "image/png": "[encoded data removed]",
      "text/plain": [
       "<Figure size 720x288 with 4 Axes>"
      ]
     },
     "metadata": {
      "needs_background": "light"
     },
     "output_type": "display_data"
    }
   ],
   "source": [
    "cols_subs = categorical_columns_wo_target[4:8]\n",
    "run_countplot(data=credit_df, cols_subs=cols_subs, target_col='15')"
   ]
  },
  {
   "cell_type": "code",
   "execution_count": 8,
   "metadata": {},
   "outputs": [
    {
     "data": {
      "image/png": "[encoded data removed]",
      "text/plain": [
       "<Figure size 720x288 with 3 Axes>"
      ]
     },
     "metadata": {
      "needs_background": "light"
     },
     "output_type": "display_data"
    }
   ],
   "source": [
    "cols_subs = categorical_columns_wo_target[8:]\n",
    "run_countplot(data=credit_df, cols_subs=cols_subs, target_col='15')"
   ]
  },
  {
   "cell_type": "markdown",
   "metadata": {},
   "source": [
    "## Data processing"
   ]
  },
  {
   "cell_type": "code",
   "execution_count": 26,
   "metadata": {},
   "outputs": [],
   "source": [
    "def data_processing(input_df: pd.DataFrame, normalize=True):\n",
    "    df = input_df.copy(deep=True)\n",
    "    # STEP 1 : basic data prepartion (missing values, recode the target variable)\n",
    "    \n",
    "    # Replace the '?'s with NaN\n",
    "    df = df.replace(\"?\",np.NaN)\n",
    "    \n",
    "    #Drop informative columns\n",
    "    df = df.drop([df.columns[10],df.columns[13]], axis=1)\n",
    "    \n",
    "    # Replace the '?'s with NaN\n",
    "    df = df.replace(\" \",\"\")\n",
    "    df = df.replace(\"?\",np.NaN)\n",
    "    df['15'] = df['15'].replace(\"+\",1)\n",
    "    df['15'] = df['15'].replace(\"-\",0)\n",
    "    df.dropna(how='any', inplace=True)\n",
    "    \n",
    "    # Cast numeric columns to the right type\n",
    "    df['1'] = df['1'].astype(float)\n",
    "    df['2'] = df['2'].astype(float)\n",
    "    df['7'] = df['7'].astype(float)\n",
    "#     df[10] = df[10].astype(float) # columns is dropped\n",
    "#     df[13] = df[13].astype(int) # columns is dropped\n",
    "    df['14'] = df['14'].astype(int)\n",
    "    \n",
    "    if normalize:\n",
    "        # STEP 2 : LabelEncoder\n",
    "        le = LabelEncoder()\n",
    "\n",
    "        for col in df.columns:\n",
    "            # Compare if the dtype is object\n",
    "            if df[col].dtype=='object':\n",
    "            # Use LabelEncoder to do the numeric transformation\n",
    "                df[col]=le.fit_transform(df[col])\n",
    "\n",
    "        # STEP 3 : Normalization\n",
    "        data_array = df.values # convert to np.array\n",
    "        \n",
    "        # Segregate features and labels into separate feature and target arrays\n",
    "        X,y = data_array[:,0:13], data_array[:,13]\n",
    "\n",
    "\n",
    "        # Instantiate MinMaxScaler and use it to rescale the features (in practive effect only on the categorical ones)\n",
    "        scaler = MinMaxScaler(feature_range=(0,1))\n",
    "        X = scaler.fit_transform(X) \n",
    "\n",
    "    else:\n",
    "        # get dummies\n",
    "        orig_col_names_categorical = []\n",
    "        for col in df.columns:\n",
    "            # Compare if the dtype is object\n",
    "            if df[col].dtype=='object':\n",
    "                orig_col_names_categorical.append(col)\n",
    "                df = pd.concat([df, pd.get_dummies(df[col], drop_first=True)], axis=1)\n",
    "                \n",
    "        # drop original features\n",
    "        df = df.drop(orig_col_names_categorical,axis=1)\n",
    "        \n",
    "        X = df.loc[:, df.columns != '15'].values\n",
    "        y = df['15'].values\n",
    "        \n",
    "    return df, X, y"
   ]
  },
  {
   "cell_type": "markdown",
   "metadata": {},
   "source": [
    "## Modeling"
   ]
  },
  {
   "cell_type": "markdown",
   "metadata": {},
   "source": [
    "### Baseline"
   ]
  },
  {
   "cell_type": "code",
   "execution_count": 41,
   "metadata": {},
   "outputs": [
    {
     "name": "stdout",
     "output_type": "stream",
     "text": [
      "(659, 35) (659,)\n",
      "MODE ModeResult(mode=array([0], dtype=int64), count=array([361]))\n"
     ]
    },
    {
     "name": "stderr",
     "output_type": "stream",
     "text": [
      "C:\\Users\\natal\\anaconda3\\lib\\site-packages\\sklearn\\metrics\\_classification.py:1318: UndefinedMetricWarning: Precision is ill-defined and being set to 0.0 due to no predicted samples. Use `zero_division` parameter to control this behavior.\n",
      "  _warn_prf(average, modifier, msg_start, len(result))\n"
     ]
    },
    {
     "data": {
      "text/html": [
       "<div>\n",
       "<style scoped>\n",
       "    .dataframe tbody tr th:only-of-type {\n",
       "        vertical-align: middle;\n",
       "    }\n",
       "\n",
       "    .dataframe tbody tr th {\n",
       "        vertical-align: top;\n",
       "    }\n",
       "\n",
       "    .dataframe thead th {\n",
       "        text-align: right;\n",
       "    }\n",
       "</style>\n",
       "<table border=\"1\" class=\"dataframe\">\n",
       "  <thead>\n",
       "    <tr style=\"text-align: right;\">\n",
       "      <th></th>\n",
       "      <th>model_name</th>\n",
       "      <th>accuracy</th>\n",
       "      <th>recall</th>\n",
       "      <th>precision</th>\n",
       "      <th>f1_score</th>\n",
       "    </tr>\n",
       "  </thead>\n",
       "  <tbody>\n",
       "    <tr>\n",
       "      <th>0</th>\n",
       "      <td>baseline</td>\n",
       "      <td>0.565657</td>\n",
       "      <td>0.0</td>\n",
       "      <td>0.0</td>\n",
       "      <td>0.0</td>\n",
       "    </tr>\n",
       "  </tbody>\n",
       "</table>\n",
       "</div>"
      ],
      "text/plain": [
       "  model_name  accuracy  recall  precision  f1_score\n",
       "0   baseline  0.565657     0.0        0.0       0.0"
      ]
     },
     "execution_count": 41,
     "metadata": {},
     "output_type": "execute_result"
    }
   ],
   "source": [
    "### baseline algorithm\n",
    "# We will use the mode of the target variable to create a baseline\n",
    "\n",
    "credit_updated_df, X, y = data_processing(input_df=credit_df, normalize=False)\n",
    "\n",
    "print(X.shape, y.shape)\n",
    "\n",
    "# Split into train and test sets\n",
    "# N0tes : Target is fairly balanced (55% class 0 and 45% class 1) therefore HoldoutCV should be ok as a start\n",
    "# print(credit_updated_df[15].value_counts())\n",
    "X_train, X_test, y_train, y_test = train_test_split(X,\n",
    "                                                    y,\n",
    "                                                    test_size=0.3,\n",
    "                                                    random_state=42)\n",
    "\n",
    "print(\"MODE\", st.mode(y))\n",
    "y_pred = np.array([0] * len(y_test))\n",
    "\n",
    "# Increment to the evaluation table\n",
    "# Because we have only 1 class f1_score, precision, and recall cannot be calculated thus we get a warning\n",
    "# https://stackoverflow.com/a/47285662\n",
    "model_name = \"baseline\"\n",
    "evaluation_df = pd.DataFrame({'model_name': model_name,\n",
    "                              'accuracy': accuracy_score(y_pred=y_pred, y_true=y_test), \n",
    "                              'recall': recall_score(y_pred=y_pred, y_true=y_test),\n",
    "                              'precision' : precision_score(y_pred=y_pred, y_true=y_test),\n",
    "                              'f1_score': f1_score(y_pred=y_pred, y_true=y_test)\n",
    "                             }, \n",
    "                             index=[0])\n",
    "evaluation_df"
   ]
  },
  {
   "cell_type": "markdown",
   "metadata": {},
   "source": [
    "### Logistic Regression"
   ]
  },
  {
   "cell_type": "code",
   "execution_count": 42,
   "metadata": {},
   "outputs": [
    {
     "name": "stdout",
     "output_type": "stream",
     "text": [
      "(659, 13) (659,)\n"
     ]
    }
   ],
   "source": [
    "# Working data Logistic Regression\n",
    "credit_updated_df, X, y = data_processing(input_df=credit_df, normalize=True)\n",
    "\n",
    "print(X.shape, y.shape)\n",
    "\n",
    "# Split into train and test sets\n",
    "# N0tes : Target is fairly balanced (55% class 0 and 45% class 1) therefore HoldoutCV should be ok as a start\n",
    "# print(credit_updated_df[15].value_counts())\n",
    "X_train, X_test, y_train, y_test = train_test_split(X,\n",
    "                                                    y,\n",
    "                                                    test_size=0.3,\n",
    "                                                    random_state=42)\n",
    "\n",
    "# Instantiate a LogisticRegression classifier with default parameter values\n",
    "log_reg = LogisticRegression()\n",
    "log_reg.fit(X_train,y_train)\n",
    "\n",
    "# Evaluate the performance\n",
    "y_pred = log_reg.predict(X_test)\n",
    "prediction_df = pd.DataFrame({'y_true':y_test, \n",
    "                              'prediction':y_pred})\n"
   ]
  },
  {
   "cell_type": "code",
   "execution_count": 43,
   "metadata": {},
   "outputs": [
    {
     "name": "stdout",
     "output_type": "stream",
     "text": [
      "Confusion matrix : \n",
      "\n",
      " [[88 24]\n",
      " [ 6 80]]\n",
      "accuracy_score: 0.848\n",
      "Recall: 0.930\n",
      "Precision: 0.769\n",
      "f1_score: 0.842\n"
     ]
    }
   ],
   "source": [
    "print(\"Confusion matrix : \\n\\n\", confusion_matrix(y_pred=y_pred, y_true=y_test))\n",
    "confusion_matrix(y_pred=y_pred, y_true=y_test)\n",
    "\n",
    "print('accuracy_score: %.3f' % accuracy_score(y_pred=y_pred, y_true=y_test))\n",
    "print('Recall: %.3f' % recall_score(y_pred=y_pred, y_true=y_test))\n",
    "print('Precision: %.3f' % precision_score(y_pred=y_pred, y_true=y_test))\n",
    "print('f1_score: %.3f' % f1_score(y_pred=y_pred, y_true=y_test))"
   ]
  },
  {
   "cell_type": "code",
   "execution_count": 44,
   "metadata": {},
   "outputs": [
    {
     "name": "stderr",
     "output_type": "stream",
     "text": [
      "C:\\Users\\natal\\AppData\\Local\\Temp\\ipykernel_2228\\110203668.py:11: FutureWarning: The frame.append method is deprecated and will be removed from pandas in a future version. Use pandas.concat instead.\n",
      "  evaluation_df = evaluation_df.append(evaluation_log_reg_df)\n"
     ]
    }
   ],
   "source": [
    "# Increment to the evaluation table\n",
    "model_name = \"logistic_regression\"\n",
    "evaluation_log_reg_df = pd.DataFrame({'model_name': model_name,\n",
    "                              'accuracy': accuracy_score(y_pred=y_pred, y_true=y_test), \n",
    "                              'recall': recall_score(y_pred=y_pred, y_true=y_test),\n",
    "                              'precision' : precision_score(y_pred=y_pred, y_true=y_test),\n",
    "                              'f1_score': f1_score(y_pred=y_pred, y_true=y_test)\n",
    "                             }, \n",
    "                             index=[0])\n",
    "\n",
    "evaluation_df = evaluation_df.append(evaluation_log_reg_df)"
   ]
  },
  {
   "cell_type": "markdown",
   "metadata": {},
   "source": [
    "### Random Forest"
   ]
  },
  {
   "cell_type": "code",
   "execution_count": 45,
   "metadata": {},
   "outputs": [
    {
     "name": "stdout",
     "output_type": "stream",
     "text": [
      "(659, 35) (659,)\n"
     ]
    },
    {
     "data": {
      "text/plain": [
       "GridSearchCV(cv=5, estimator=RandomForestClassifier(),\n",
       "             param_grid={'max_depth': [3, 5, 10],\n",
       "                         'min_samples_split': [3, 5, 10],\n",
       "                         'n_estimators': [1, 100, 500]},\n",
       "             scoring='accuracy')"
      ]
     },
     "execution_count": 45,
     "metadata": {},
     "output_type": "execute_result"
    }
   ],
   "source": [
    "credit_updated_df, X, y = data_processing(input_df=credit_df, normalize=False)\n",
    "\n",
    "print(X.shape, y.shape)\n",
    "\n",
    "# Split into train and test sets\n",
    "# N0tes : Target is fairly balanced (55% class 0 and 45% class 1) therefore HoldoutCV should be ok as a start\n",
    "# print(credit_updated_df[15].value_counts())\n",
    "X_train, X_test, y_train, y_test = train_test_split(X,\n",
    "                                                    y,\n",
    "                                                    test_size=0.3,\n",
    "                                                    random_state=42)\n",
    "\n",
    "# Grid Search to find the optimal parameters among the search set\n",
    "rfc = RandomForestClassifier()\n",
    "\n",
    "'''\n",
    "n_estimators - The number of trees in the forest.\n",
    "min_samples_split - The minimum number of samples required to split an internal node:\n",
    "max_depth - The maximum depth of the tree]\n",
    "'''\n",
    "\n",
    "\n",
    "param_grid = dict(n_estimators=[1,100,500],\n",
    "                  min_samples_split=[3,5,10],\n",
    "                  max_depth=[3,5,10])\n",
    "\n",
    "grid = GridSearchCV(rfc,param_grid,scoring='accuracy',cv=5)\n",
    "grid.fit(X,y)"
   ]
  },
  {
   "cell_type": "code",
   "execution_count": 47,
   "metadata": {},
   "outputs": [
    {
     "name": "stdout",
     "output_type": "stream",
     "text": [
      "Best Hyperparameters: {'max_depth': 3, 'min_samples_split': 5, 'n_estimators': 100}\n",
      "Best Score: 0.8650358547305113\n"
     ]
    }
   ],
   "source": [
    "print('Best Hyperparameters:',grid.best_params_)\n",
    "print('Best Score:',grid.best_score_)"
   ]
  },
  {
   "cell_type": "code",
   "execution_count": 48,
   "metadata": {},
   "outputs": [
    {
     "data": {
      "text/html": [
       "<div>\n",
       "<style scoped>\n",
       "    .dataframe tbody tr th:only-of-type {\n",
       "        vertical-align: middle;\n",
       "    }\n",
       "\n",
       "    .dataframe tbody tr th {\n",
       "        vertical-align: top;\n",
       "    }\n",
       "\n",
       "    .dataframe thead th {\n",
       "        text-align: right;\n",
       "    }\n",
       "</style>\n",
       "<table border=\"1\" class=\"dataframe\">\n",
       "  <thead>\n",
       "    <tr style=\"text-align: right;\">\n",
       "      <th></th>\n",
       "      <th>param_n_estimators</th>\n",
       "      <th>param_max_depth</th>\n",
       "      <th>param_min_samples_split</th>\n",
       "      <th>mean_test_score</th>\n",
       "      <th>rank_test_score</th>\n",
       "    </tr>\n",
       "  </thead>\n",
       "  <tbody>\n",
       "    <tr>\n",
       "      <th>4</th>\n",
       "      <td>100</td>\n",
       "      <td>3</td>\n",
       "      <td>5</td>\n",
       "      <td>0.865036</td>\n",
       "      <td>1</td>\n",
       "    </tr>\n",
       "    <tr>\n",
       "      <th>2</th>\n",
       "      <td>500</td>\n",
       "      <td>3</td>\n",
       "      <td>3</td>\n",
       "      <td>0.858964</td>\n",
       "      <td>2</td>\n",
       "    </tr>\n",
       "    <tr>\n",
       "      <th>14</th>\n",
       "      <td>500</td>\n",
       "      <td>5</td>\n",
       "      <td>5</td>\n",
       "      <td>0.857460</td>\n",
       "      <td>3</td>\n",
       "    </tr>\n",
       "    <tr>\n",
       "      <th>13</th>\n",
       "      <td>100</td>\n",
       "      <td>5</td>\n",
       "      <td>5</td>\n",
       "      <td>0.855945</td>\n",
       "      <td>4</td>\n",
       "    </tr>\n",
       "    <tr>\n",
       "      <th>17</th>\n",
       "      <td>500</td>\n",
       "      <td>5</td>\n",
       "      <td>10</td>\n",
       "      <td>0.854441</td>\n",
       "      <td>5</td>\n",
       "    </tr>\n",
       "    <tr>\n",
       "      <th>10</th>\n",
       "      <td>100</td>\n",
       "      <td>5</td>\n",
       "      <td>3</td>\n",
       "      <td>0.854418</td>\n",
       "      <td>6</td>\n",
       "    </tr>\n",
       "    <tr>\n",
       "      <th>16</th>\n",
       "      <td>100</td>\n",
       "      <td>5</td>\n",
       "      <td>10</td>\n",
       "      <td>0.854418</td>\n",
       "      <td>6</td>\n",
       "    </tr>\n",
       "    <tr>\n",
       "      <th>8</th>\n",
       "      <td>500</td>\n",
       "      <td>3</td>\n",
       "      <td>10</td>\n",
       "      <td>0.852915</td>\n",
       "      <td>8</td>\n",
       "    </tr>\n",
       "    <tr>\n",
       "      <th>25</th>\n",
       "      <td>100</td>\n",
       "      <td>10</td>\n",
       "      <td>10</td>\n",
       "      <td>0.852903</td>\n",
       "      <td>9</td>\n",
       "    </tr>\n",
       "    <tr>\n",
       "      <th>20</th>\n",
       "      <td>500</td>\n",
       "      <td>10</td>\n",
       "      <td>3</td>\n",
       "      <td>0.852892</td>\n",
       "      <td>10</td>\n",
       "    </tr>\n",
       "    <tr>\n",
       "      <th>26</th>\n",
       "      <td>500</td>\n",
       "      <td>10</td>\n",
       "      <td>10</td>\n",
       "      <td>0.851388</td>\n",
       "      <td>11</td>\n",
       "    </tr>\n",
       "    <tr>\n",
       "      <th>11</th>\n",
       "      <td>500</td>\n",
       "      <td>5</td>\n",
       "      <td>3</td>\n",
       "      <td>0.849873</td>\n",
       "      <td>12</td>\n",
       "    </tr>\n",
       "    <tr>\n",
       "      <th>23</th>\n",
       "      <td>500</td>\n",
       "      <td>10</td>\n",
       "      <td>5</td>\n",
       "      <td>0.848369</td>\n",
       "      <td>13</td>\n",
       "    </tr>\n",
       "    <tr>\n",
       "      <th>1</th>\n",
       "      <td>100</td>\n",
       "      <td>3</td>\n",
       "      <td>3</td>\n",
       "      <td>0.848358</td>\n",
       "      <td>14</td>\n",
       "    </tr>\n",
       "    <tr>\n",
       "      <th>5</th>\n",
       "      <td>500</td>\n",
       "      <td>3</td>\n",
       "      <td>5</td>\n",
       "      <td>0.848346</td>\n",
       "      <td>15</td>\n",
       "    </tr>\n",
       "    <tr>\n",
       "      <th>7</th>\n",
       "      <td>100</td>\n",
       "      <td>3</td>\n",
       "      <td>10</td>\n",
       "      <td>0.848323</td>\n",
       "      <td>16</td>\n",
       "    </tr>\n",
       "    <tr>\n",
       "      <th>22</th>\n",
       "      <td>100</td>\n",
       "      <td>10</td>\n",
       "      <td>5</td>\n",
       "      <td>0.846842</td>\n",
       "      <td>17</td>\n",
       "    </tr>\n",
       "    <tr>\n",
       "      <th>19</th>\n",
       "      <td>100</td>\n",
       "      <td>10</td>\n",
       "      <td>3</td>\n",
       "      <td>0.845327</td>\n",
       "      <td>18</td>\n",
       "    </tr>\n",
       "    <tr>\n",
       "      <th>15</th>\n",
       "      <td>1</td>\n",
       "      <td>5</td>\n",
       "      <td>10</td>\n",
       "      <td>0.837694</td>\n",
       "      <td>19</td>\n",
       "    </tr>\n",
       "    <tr>\n",
       "      <th>6</th>\n",
       "      <td>1</td>\n",
       "      <td>3</td>\n",
       "      <td>10</td>\n",
       "      <td>0.767742</td>\n",
       "      <td>20</td>\n",
       "    </tr>\n",
       "    <tr>\n",
       "      <th>18</th>\n",
       "      <td>1</td>\n",
       "      <td>10</td>\n",
       "      <td>3</td>\n",
       "      <td>0.766331</td>\n",
       "      <td>21</td>\n",
       "    </tr>\n",
       "    <tr>\n",
       "      <th>24</th>\n",
       "      <td>1</td>\n",
       "      <td>10</td>\n",
       "      <td>10</td>\n",
       "      <td>0.746611</td>\n",
       "      <td>22</td>\n",
       "    </tr>\n",
       "    <tr>\n",
       "      <th>12</th>\n",
       "      <td>1</td>\n",
       "      <td>5</td>\n",
       "      <td>5</td>\n",
       "      <td>0.745096</td>\n",
       "      <td>23</td>\n",
       "    </tr>\n",
       "    <tr>\n",
       "      <th>3</th>\n",
       "      <td>1</td>\n",
       "      <td>3</td>\n",
       "      <td>5</td>\n",
       "      <td>0.743442</td>\n",
       "      <td>24</td>\n",
       "    </tr>\n",
       "    <tr>\n",
       "      <th>21</th>\n",
       "      <td>1</td>\n",
       "      <td>10</td>\n",
       "      <td>5</td>\n",
       "      <td>0.735970</td>\n",
       "      <td>25</td>\n",
       "    </tr>\n",
       "    <tr>\n",
       "      <th>9</th>\n",
       "      <td>1</td>\n",
       "      <td>5</td>\n",
       "      <td>3</td>\n",
       "      <td>0.729944</td>\n",
       "      <td>26</td>\n",
       "    </tr>\n",
       "    <tr>\n",
       "      <th>0</th>\n",
       "      <td>1</td>\n",
       "      <td>3</td>\n",
       "      <td>3</td>\n",
       "      <td>0.655621</td>\n",
       "      <td>27</td>\n",
       "    </tr>\n",
       "  </tbody>\n",
       "</table>\n",
       "</div>"
      ],
      "text/plain": [
       "   param_n_estimators param_max_depth param_min_samples_split  \\\n",
       "4                 100               3                       5   \n",
       "2                 500               3                       3   \n",
       "14                500               5                       5   \n",
       "13                100               5                       5   \n",
       "17                500               5                      10   \n",
       "10                100               5                       3   \n",
       "16                100               5                      10   \n",
       "8                 500               3                      10   \n",
       "25                100              10                      10   \n",
       "20                500              10                       3   \n",
       "26                500              10                      10   \n",
       "11                500               5                       3   \n",
       "23                500              10                       5   \n",
       "1                 100               3                       3   \n",
       "5                 500               3                       5   \n",
       "7                 100               3                      10   \n",
       "22                100              10                       5   \n",
       "19                100              10                       3   \n",
       "15                  1               5                      10   \n",
       "6                   1               3                      10   \n",
       "18                  1              10                       3   \n",
       "24                  1              10                      10   \n",
       "12                  1               5                       5   \n",
       "3                   1               3                       5   \n",
       "21                  1              10                       5   \n",
       "9                   1               5                       3   \n",
       "0                   1               3                       3   \n",
       "\n",
       "    mean_test_score  rank_test_score  \n",
       "4          0.865036                1  \n",
       "2          0.858964                2  \n",
       "14         0.857460                3  \n",
       "13         0.855945                4  \n",
       "17         0.854441                5  \n",
       "10         0.854418                6  \n",
       "16         0.854418                6  \n",
       "8          0.852915                8  \n",
       "25         0.852903                9  \n",
       "20         0.852892               10  \n",
       "26         0.851388               11  \n",
       "11         0.849873               12  \n",
       "23         0.848369               13  \n",
       "1          0.848358               14  \n",
       "5          0.848346               15  \n",
       "7          0.848323               16  \n",
       "22         0.846842               17  \n",
       "19         0.845327               18  \n",
       "15         0.837694               19  \n",
       "6          0.767742               20  \n",
       "18         0.766331               21  \n",
       "24         0.746611               22  \n",
       "12         0.745096               23  \n",
       "3          0.743442               24  \n",
       "21         0.735970               25  \n",
       "9          0.729944               26  \n",
       "0          0.655621               27  "
      ]
     },
     "execution_count": 48,
     "metadata": {},
     "output_type": "execute_result"
    }
   ],
   "source": [
    "grid_cols_subset = ['param_n_estimators','param_max_depth','param_min_samples_split','mean_test_score','rank_test_score']\n",
    "scores_df = pd.DataFrame(grid.cv_results_)[grid_cols_subset].sort_values(by='mean_test_score', ascending=False)\n",
    "scores_df"
   ]
  },
  {
   "cell_type": "code",
   "execution_count": 49,
   "metadata": {},
   "outputs": [
    {
     "name": "stdout",
     "output_type": "stream",
     "text": [
      "Confusion matrix : \n",
      "\n",
      " [[101  11]\n",
      " [ 14  72]]\n",
      "accuracy_score: 0.874\n",
      "Recall: 0.837\n",
      "Precision: 0.867\n",
      "f1_score: 0.852\n"
     ]
    }
   ],
   "source": [
    "params_best = {'max_depth': 3, 'min_samples_split': 5, 'n_estimators': 500}\n",
    "\n",
    "rfc_best = RandomForestClassifier(**params_best)\n",
    "rfc_best.fit(X, y)\n",
    "\n",
    "# Evaluate the performance\n",
    "y_pred_rf = rfc_best.predict(X_test)\n",
    "prediction_rf_df = pd.DataFrame({'y_true':y_test, \n",
    "                                 'prediction':y_pred_rf})\\\n",
    "\n",
    "print(\"Confusion matrix : \\n\\n\", confusion_matrix(y_pred=y_pred_rf, y_true=y_test))\n",
    "confusion_matrix(y_pred=y_pred, y_true=y_test)\n",
    "\n",
    "print('accuracy_score: %.3f' % accuracy_score(y_pred=y_pred_rf, y_true=y_test))\n",
    "print('Recall: %.3f' % recall_score(y_pred=y_pred_rf, y_true=y_test))\n",
    "print('Precision: %.3f' % precision_score(y_pred=y_pred_rf, y_true=y_test))\n",
    "print('f1_score: %.3f' % f1_score(y_pred=y_pred_rf, y_true=y_test))"
   ]
  },
  {
   "cell_type": "code",
   "execution_count": 50,
   "metadata": {},
   "outputs": [
    {
     "name": "stderr",
     "output_type": "stream",
     "text": [
      "C:\\Users\\natal\\AppData\\Local\\Temp\\ipykernel_2228\\439986763.py:11: FutureWarning: The frame.append method is deprecated and will be removed from pandas in a future version. Use pandas.concat instead.\n",
      "  evaluation_df = evaluation_df.append(evaluation_rf_df)\n"
     ]
    }
   ],
   "source": [
    "# Increment to the evaluation table\n",
    "model_name = \"random_forest\"\n",
    "evaluation_rf_df = pd.DataFrame({'model_name': model_name,\n",
    "                              'accuracy': accuracy_score(y_pred=y_pred_rf, y_true=y_test), \n",
    "                              'recall': recall_score(y_pred=y_pred_rf, y_true=y_test),\n",
    "                              'precision' : precision_score(y_pred=y_pred_rf, y_true=y_test),\n",
    "                              'f1_score': f1_score(y_pred=y_pred_rf, y_true=y_test)\n",
    "                             }, \n",
    "                             index=[0])\n",
    "\n",
    "evaluation_df = evaluation_df.append(evaluation_rf_df)"
   ]
  },
  {
   "cell_type": "code",
   "execution_count": 51,
   "metadata": {},
   "outputs": [
    {
     "data": {
      "text/html": [
       "<div>\n",
       "<style scoped>\n",
       "    .dataframe tbody tr th:only-of-type {\n",
       "        vertical-align: middle;\n",
       "    }\n",
       "\n",
       "    .dataframe tbody tr th {\n",
       "        vertical-align: top;\n",
       "    }\n",
       "\n",
       "    .dataframe thead th {\n",
       "        text-align: right;\n",
       "    }\n",
       "</style>\n",
       "<table border=\"1\" class=\"dataframe\">\n",
       "  <thead>\n",
       "    <tr style=\"text-align: right;\">\n",
       "      <th></th>\n",
       "      <th>model_name</th>\n",
       "      <th>accuracy</th>\n",
       "      <th>recall</th>\n",
       "      <th>precision</th>\n",
       "      <th>f1_score</th>\n",
       "    </tr>\n",
       "  </thead>\n",
       "  <tbody>\n",
       "    <tr>\n",
       "      <th>0</th>\n",
       "      <td>baseline</td>\n",
       "      <td>0.565657</td>\n",
       "      <td>0.000000</td>\n",
       "      <td>0.000000</td>\n",
       "      <td>0.000000</td>\n",
       "    </tr>\n",
       "    <tr>\n",
       "      <th>0</th>\n",
       "      <td>logistic_regression</td>\n",
       "      <td>0.848485</td>\n",
       "      <td>0.930233</td>\n",
       "      <td>0.769231</td>\n",
       "      <td>0.842105</td>\n",
       "    </tr>\n",
       "    <tr>\n",
       "      <th>0</th>\n",
       "      <td>random_forest</td>\n",
       "      <td>0.873737</td>\n",
       "      <td>0.837209</td>\n",
       "      <td>0.867470</td>\n",
       "      <td>0.852071</td>\n",
       "    </tr>\n",
       "  </tbody>\n",
       "</table>\n",
       "</div>"
      ],
      "text/plain": [
       "            model_name  accuracy    recall  precision  f1_score\n",
       "0             baseline  0.565657  0.000000   0.000000  0.000000\n",
       "0  logistic_regression  0.848485  0.930233   0.769231  0.842105\n",
       "0        random_forest  0.873737  0.837209   0.867470  0.852071"
      ]
     },
     "execution_count": 51,
     "metadata": {},
     "output_type": "execute_result"
    }
   ],
   "source": [
    "# Conclusion :\n",
    "\n",
    "evaluation_df\n",
    "\n",
    "# The best model among the tested is the RandomForest Classifier. \n",
    "# It has the best performance in all metrics observed.\n",
    "# It significantly beats the baseline (mode) in terms of accuracy"
   ]
  },
  {
   "cell_type": "code",
   "execution_count": 331,
   "metadata": {},
   "outputs": [
    {
     "name": "stdout",
     "output_type": "stream",
     "text": [
      "Collecting shap\n",
      "  Downloading shap-0.41.0-cp39-cp39-win_amd64.whl (435 kB)\n",
      "Requirement already satisfied: numpy in c:\\users\\natal\\anaconda3\\lib\\site-packages (from shap) (1.21.5)\n",
      "Requirement already satisfied: cloudpickle in c:\\users\\natal\\anaconda3\\lib\\site-packages (from shap) (2.0.0)\n",
      "Requirement already satisfied: scikit-learn in c:\\users\\natal\\anaconda3\\lib\\site-packages (from shap) (1.0.2)\n",
      "Collecting slicer==0.0.7\n",
      "  Downloading slicer-0.0.7-py3-none-any.whl (14 kB)\n",
      "Requirement already satisfied: packaging>20.9 in c:\\users\\natal\\anaconda3\\lib\\site-packages (from shap) (21.3)\n",
      "Requirement already satisfied: numba in c:\\users\\natal\\anaconda3\\lib\\site-packages (from shap) (0.55.1)\n",
      "Requirement already satisfied: tqdm>4.25.0 in c:\\users\\natal\\anaconda3\\lib\\site-packages (from shap) (4.64.0)\n",
      "Requirement already satisfied: scipy in c:\\users\\natal\\anaconda3\\lib\\site-packages (from shap) (1.7.3)\n",
      "Requirement already satisfied: pandas in c:\\users\\natal\\anaconda3\\lib\\site-packages (from shap) (1.4.2)\n",
      "Requirement already satisfied: pyparsing!=3.0.5,>=2.0.2 in c:\\users\\natal\\anaconda3\\lib\\site-packages (from packaging>20.9->shap) (3.0.4)\n",
      "Requirement already satisfied: colorama in c:\\users\\natal\\anaconda3\\lib\\site-packages (from tqdm>4.25.0->shap) (0.4.4)\n",
      "Requirement already satisfied: setuptools in c:\\users\\natal\\anaconda3\\lib\\site-packages (from numba->shap) (61.2.0)\n",
      "Requirement already satisfied: llvmlite<0.39,>=0.38.0rc1 in c:\\users\\natal\\anaconda3\\lib\\site-packages (from numba->shap) (0.38.0)\n",
      "Requirement already satisfied: python-dateutil>=2.8.1 in c:\\users\\natal\\anaconda3\\lib\\site-packages (from pandas->shap) (2.8.2)\n",
      "Requirement already satisfied: pytz>=2020.1 in c:\\users\\natal\\anaconda3\\lib\\site-packages (from pandas->shap) (2021.3)\n",
      "Requirement already satisfied: six>=1.5 in c:\\users\\natal\\anaconda3\\lib\\site-packages (from python-dateutil>=2.8.1->pandas->shap) (1.16.0)\n",
      "Requirement already satisfied: joblib>=0.11 in c:\\users\\natal\\anaconda3\\lib\\site-packages (from scikit-learn->shap) (1.1.0)\n",
      "Requirement already satisfied: threadpoolctl>=2.0.0 in c:\\users\\natal\\anaconda3\\lib\\site-packages (from scikit-learn->shap) (2.2.0)\n",
      "Installing collected packages: slicer, shap\n",
      "Successfully installed shap-0.41.0 slicer-0.0.7\n"
     ]
    }
   ],
   "source": [
    "!pip install shap"
   ]
  },
  {
   "cell_type": "code",
   "execution_count": 334,
   "metadata": {},
   "outputs": [
    {
     "name": "stderr",
     "output_type": "stream",
     "text": [
      "Permutation explainer: 199it [03:10,  1.01it/s]                                                                        \n"
     ]
    }
   ],
   "source": [
    "import shap\n",
    "\n",
    "# Fits the explainer\n",
    "explainer = shap.Explainer(rfc_best.predict, X_test)\n",
    "# Calculates the SHAP values - It takes some time\n",
    "shap_values = explainer(X_test)"
   ]
  },
  {
   "cell_type": "code",
   "execution_count": 335,
   "metadata": {},
   "outputs": [
    {
     "data": {
      "image/png": "[encoded data removed]",
      "text/plain": [
       "<Figure size 576x396 with 2 Axes>"
      ]
     },
     "metadata": {
      "needs_background": "light"
     },
     "output_type": "display_data"
    }
   ],
   "source": [
    "shap.plots.beeswarm(shap_values)"
   ]
  },
  {
   "cell_type": "code",
   "execution_count": 337,
   "metadata": {},
   "outputs": [
    {
     "data": {
      "image/png": "[encoded data removed]",
      "text/plain": [
       "<Figure size 576x684 with 2 Axes>"
      ]
     },
     "metadata": {
      "needs_background": "light"
     },
     "output_type": "display_data"
    }
   ],
   "source": [
    "shap.summary_plot(shap_values)"
   ]
  }
 ],
 "metadata": {
  "kernelspec": {
   "display_name": "Python 3 (ipykernel)",
   "language": "python",
   "name": "python3"
  },
  "language_info": {
   "codemirror_mode": {
    "name": "ipython",
    "version": 3
   },
   "file_extension": ".py",
   "mimetype": "text/x-python",
   "name": "python",
   "nbconvert_exporter": "python",
   "pygments_lexer": "ipython3",
   "version": "3.9.12"
  }
 },
 "nbformat": 4,
 "nbformat_minor": 2
}
